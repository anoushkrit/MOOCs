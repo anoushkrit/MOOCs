{
 "cells": [
  {
   "cell_type": "markdown",
   "metadata": {},
   "source": [
    "# Exercise 3: A Quirk In The Dataset\n",
    "\n",
    "The mean absolute difference of the y-channel can be used as a feature for activity classification. We have previously not used it (ie. it's not in `activity_classifier_utils.Featurize()`. But it is an extremely powerful feature for this  dataset. Build a model that uses ONLY this feature and evaluates its performance.\n",
    "\n",
    "What conclusions can you draw from this?"
   ]
  },
  {
   "cell_type": "markdown",
   "metadata": {},
   "source": [
    "Some basic imports. Feel free to make use of more than just these imports."
   ]
  },
  {
   "cell_type": "code",
   "execution_count": null,
   "metadata": {},
   "outputs": [],
   "source": [
    "import numpy as np\n",
    "from matplotlib import pyplot as plt\n",
    "from sklearn.ensemble import RandomForestClassifier\n",
    "\n",
    "import activity_classifier_utils"
   ]
  },
  {
   "cell_type": "markdown",
   "metadata": {},
   "source": [
    "Load the data"
   ]
  },
  {
   "cell_type": "code",
   "execution_count": null,
   "metadata": {},
   "outputs": [],
   "source": [
    "fs = 256\n",
    "data = activity_classifier_utils.LoadWristPPGDataset()"
   ]
  },
  {
   "cell_type": "markdown",
   "metadata": {},
   "source": [
    "## Generate Features\n",
    "\n",
    "Use a 10 second non-overlapping window as we have been using and only compute the mean-absolute-difference for each window. Remember to keep track of the labels and subjects as we have been doing so that you can do leave-one-subject-out cross validation. If you get stuck, look at `activity_classifier_utils.GenerateFeatures()` or code from the previous lessons. It should look pretty similar."
   ]
  },
  {
   "cell_type": "code",
   "execution_count": null,
   "metadata": {},
   "outputs": [],
   "source": [
    "window_length_s = 10\n",
    "window_shift_s = 10\n",
    "labels, subjects, features = [], [], []\n",
    "\n",
    "# Compute features here\n",
    "\n",
    "labels = np.array(labels)\n",
    "subjects = np.array(subjects)\n",
    "features = np.array(features).reshape(-1, 1)"
   ]
  },
  {
   "cell_type": "markdown",
   "metadata": {},
   "source": [
    "## Evaluate Model Performance\n",
    "\n",
    "Create a model and use `activity_classifier_utils.LOSOCVPerformance()` to evaluate its performance. Compute the classification accuracy and plot the confusion matrix using `activity_classifier_utils.PlotConfusionMatrix`. See previous videos in this lesson if you get stuck."
   ]
  },
  {
   "cell_type": "code",
   "execution_count": null,
   "metadata": {},
   "outputs": [],
   "source": []
  },
  {
   "cell_type": "markdown",
   "metadata": {},
   "source": [
    "## Thoughts?\n",
    "\n",
    "Why is this happening? What does it mean for our activity classification problem?"
   ]
  }
 ],
 "metadata": {
  "kernelspec": {
   "display_name": "Python 3",
   "language": "python",
   "name": "python3"
  },
  "language_info": {
   "codemirror_mode": {
    "name": "ipython",
    "version": 3
   },
   "file_extension": ".py",
   "mimetype": "text/x-python",
   "name": "python",
   "nbconvert_exporter": "python",
   "pygments_lexer": "ipython3",
   "version": "3.6.3"
  }
 },
 "nbformat": 4,
 "nbformat_minor": 2
}
