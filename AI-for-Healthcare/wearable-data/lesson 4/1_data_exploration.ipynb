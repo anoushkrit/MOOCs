{
 "cells": [
  {
   "cell_type": "markdown",
   "metadata": {},
   "source": [
    "# Exercise 1: Data Exploration\n",
    "\n",
    "Use the code below to explore the raw timeseries data. Come up with 5 observations that might help inform an algorithm that you build using this data."
   ]
  },
  {
   "cell_type": "markdown",
   "metadata": {},
   "source": [
    "## Imports"
   ]
  },
  {
   "cell_type": "code",
   "execution_count": null,
   "metadata": {},
   "outputs": [],
   "source": [
    "import os\n",
    "\n",
    "from matplotlib import pyplot as plt\n",
    "import numpy as np\n",
    "import pandas as pd"
   ]
  },
  {
   "cell_type": "markdown",
   "metadata": {},
   "source": [
    "## Load Data"
   ]
  },
  {
   "cell_type": "code",
   "execution_count": null,
   "metadata": {},
   "outputs": [],
   "source": [
    "data_dir = 'data'\n",
    "filenames = [os.path.splitext(f)[0] for f in sorted(os.listdir(data_dir))]\n",
    "fs = 256"
   ]
  },
  {
   "cell_type": "code",
   "execution_count": null,
   "metadata": {},
   "outputs": [],
   "source": [
    "data = []\n",
    "for f in filenames:\n",
    "    subject = f.split('_')[0]\n",
    "    activity = f.split('_')[1]\n",
    "    path = os.path.join(data_dir, f + '.csv')\n",
    "    df = pd.read_csv(path)\n",
    "    df = df.loc[: df.last_valid_index()]\n",
    "    data.append((subject, activity, df))"
   ]
  },
  {
   "cell_type": "markdown",
   "metadata": {},
   "source": [
    "## Offline\n",
    "\n",
    "Working in an offline notebook on your local machine is probably easier and faster for this exercise. See the instructions in the introductory lesson for this course to get started.\n",
    "\n",
    "Use the plotting code below to visualize the data."
   ]
  },
  {
   "cell_type": "markdown",
   "metadata": {},
   "source": [
    "### Pick a backend\n",
    "\n",
    "You can only pick one matplotlib backend so delete two lines of code from the cell below before running it."
   ]
  },
  {
   "cell_type": "code",
   "execution_count": null,
   "metadata": {},
   "outputs": [],
   "source": [
    "# Use this backend if you are on MacOS\n",
    "%matplotlib osx  \n",
    "# Use this backend if you are not. \n",
    "%matplotlib qt   \n",
    "# A third backend to try if the ones above don't work. \n",
    "%matplotlib tk   "
   ]
  },
  {
   "cell_type": "markdown",
   "metadata": {},
   "source": [
    "### Sequentially Plot the Data\n",
    "\n",
    "You can interact with the plots with your mouse. Press any key on the keyboard to go to the next plot."
   ]
  },
  {
   "cell_type": "code",
   "execution_count": null,
   "metadata": {},
   "outputs": [],
   "source": [
    "for subject, activity, df in sorted(data, key=lambda x: x[1]):\n",
    "    ts = np.arange(len(df)) / fs\n",
    "    plt.clf()\n",
    "    plt.plot(ts, df.accx, label='x')\n",
    "    plt.plot(ts, df.accy, label='y')\n",
    "    plt.plot(ts, df.accz, label='z')\n",
    "    plt.title('{}_{}'.format(subject, activity))\n",
    "    plt.legend()\n",
    "    plt.ylim((-25, 25))\n",
    "    plt.draw()\n",
    "    while not plt.waitforbuttonpress():\n",
    "        pass"
   ]
  },
  {
   "cell_type": "markdown",
   "metadata": {},
   "source": [
    "## Inside the Udacity workspace\n",
    "\n",
    "Inside a VM you won't be able to open a new window so you have to plot the data inline. It's a lot of data to plot interactively so you may have to be patient. After examining the data from one activity class it's a good idea to clear that cell's output so you free up memory in the notebook. Click on the cell with the plots, then in the top menu `Cell` > `Current Outputs` > `Clear`"
   ]
  },
  {
   "cell_type": "code",
   "execution_count": null,
   "metadata": {},
   "outputs": [],
   "source": [
    "%matplotlib inline"
   ]
  },
  {
   "cell_type": "markdown",
   "metadata": {},
   "source": [
    "`mpld3` will allow you to interact with the plots but if you run the following line of code the workspace could crash while generating the graphs. It is **highly** suggested you run the following data **without** `mpld3` and if you are interested in a particular graph to enable this and generate the graph individually. "
   ]
  },
  {
   "cell_type": "code",
   "execution_count": null,
   "metadata": {},
   "outputs": [],
   "source": [
    "import mpld3\n",
    "mpld3.enable_notebook()"
   ]
  },
  {
   "cell_type": "markdown",
   "metadata": {},
   "source": [
    "#### Plot biking data"
   ]
  },
  {
   "cell_type": "code",
   "execution_count": null,
   "metadata": {},
   "outputs": [],
   "source": [
    "for subject, activity, df in data:\n",
    "    if activity != 'bike':\n",
    "        continue\n",
    "    ts = np.arange(len(df)) / fs\n",
    "    plt.figure(figsize=(12, 8))\n",
    "    plt.plot(ts, df.accx, label='x')\n",
    "    plt.plot(ts, df.accy, label='y')\n",
    "    plt.plot(ts, df.accz, label='z')\n",
    "    plt.title('{}_{}'.format(subject, activity))\n",
    "    plt.legend()\n",
    "    plt.ylim((-25, 25))\n",
    "    plt.draw() "
   ]
  },
  {
   "cell_type": "markdown",
   "metadata": {},
   "source": [
    "#### Plot running data"
   ]
  },
  {
   "cell_type": "code",
   "execution_count": null,
   "metadata": {},
   "outputs": [],
   "source": [
    "for subject, activity, df in sorted(data, key=lambda x: x[1]):\n",
    "    if activity != 'run':\n",
    "        continue\n",
    "    ts = np.arange(len(df)) / fs\n",
    "    plt.figure(figsize=(12, 8))\n",
    "    plt.plot(ts, df.accx, label='x')\n",
    "    plt.plot(ts, df.accy, label='y')\n",
    "    plt.plot(ts, df.accz, label='z')\n",
    "    plt.title('{}_{}'.format(subject, activity))\n",
    "    plt.legend()\n",
    "    plt.ylim((-25, 25))\n",
    "    plt.draw()"
   ]
  },
  {
   "cell_type": "markdown",
   "metadata": {},
   "source": [
    "#### Plot walking data"
   ]
  },
  {
   "cell_type": "code",
   "execution_count": null,
   "metadata": {},
   "outputs": [],
   "source": [
    "for subject, activity, df in sorted(data, key=lambda x: x[1]):\n",
    "    if activity != 'walk':\n",
    "        continue\n",
    "    ts = np.arange(len(df)) / fs\n",
    "    plt.figure(figsize=(12, 8))  \n",
    "    plt.plot(ts, df.accx, label='x')\n",
    "    plt.plot(ts, df.accy, label='y')\n",
    "    plt.plot(ts, df.accz, label='z')\n",
    "    plt.title('{}_{}'.format(subject, activity))\n",
    "    plt.legend()\n",
    "    plt.ylim((-25, 25))\n",
    "    plt.draw()"
   ]
  },
  {
   "cell_type": "markdown",
   "metadata": {},
   "source": [
    "## Observations"
   ]
  },
  {
   "cell_type": "markdown",
   "metadata": {},
   "source": [
    "What do you notice about the data that might be helpful when we start building a classifier?"
   ]
  }
 ],
 "metadata": {
  "kernelspec": {
   "display_name": "Python 3",
   "language": "python",
   "name": "python3"
  },
  "language_info": {
   "codemirror_mode": {
    "name": "ipython",
    "version": 3
   },
   "file_extension": ".py",
   "mimetype": "text/x-python",
   "name": "python",
   "nbconvert_exporter": "python",
   "pygments_lexer": "ipython3",
   "version": "3.7.6"
  }
 },
 "nbformat": 4,
 "nbformat_minor": 2
}
